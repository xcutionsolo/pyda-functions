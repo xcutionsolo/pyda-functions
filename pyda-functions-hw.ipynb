{
 "cells": [
  {
   "cell_type": "markdown",
   "metadata": {},
   "source": [
    "## Задание 1"
   ]
  },
  {
   "cell_type": "markdown",
   "metadata": {},
   "source": [
    "Дан список вида:"
   ]
  },
  {
   "cell_type": "code",
   "execution_count": 12,
   "metadata": {},
   "outputs": [
    {
     "name": "stdout",
     "output_type": "stream",
     "text": [
      "103\n"
     ]
    }
   ],
   "source": [
    "data = [\n",
    "    [13, 25, 23, 34],\n",
    "    [45, 32, 44, 47],\n",
    "    [12, 33, 23, 95],\n",
    "    [13, 53, 34, 35]\n",
    "]\n",
    "a=-1\n",
    "b=0\n",
    "while a !=len(data)-1:\n",
    "    a = a + 1\n",
    "    b = b + data[a][a]\n",
    "print(b)"
   ]
  },
  {
   "cell_type": "markdown",
   "metadata": {},
   "source": [
    "Напишите функцию, которая возвращает сумму элементов на диагонали. Т. е. 13+32+23+35.  \n",
    "Список может быть любой длины, но всегда является \"квадратным\" (количество элементов во вложенных списках равно их количеству)."
   ]
  },
  {
   "cell_type": "markdown",
   "metadata": {},
   "source": [
    "## Задание 2"
   ]
  },
  {
   "cell_type": "markdown",
   "metadata": {},
   "source": [
    "Напишите функцию, возвращающую сумму первых n чисел Фибоначчи (для этого вам может понадобится ознакомиться с рекурсией)."
   ]
  },
  {
   "cell_type": "code",
   "execution_count": null,
   "metadata": {},
   "outputs": [],
   "source": [
    "def fibonachi(n):\n",
    "    if n == 1:\n",
    "        sum = 0\n",
    "    elif n == 2:\n",
    "        sum = 1 \n",
    "    else:\n",
    "        a=0\n",
    "        b=1\n",
    "        c=2\n",
    "        sum = 1\n",
    "        while c !=n:\n",
    "            c = c + 1\n",
    "            b = a + b\n",
    "            a = b - a\n",
    "            sum = sum + b\n",
    "    return sum\n",
    "fibonachi(5)\n",
    "     \n",
    "            \n",
    "            \n",
    "        \n",
    "    \n",
    "    "
   ]
  },
  {
   "cell_type": "markdown",
   "metadata": {},
   "source": [
    "## Задание 3\n"
   ]
  },
  {
   "cell_type": "markdown",
   "metadata": {},
   "source": [
    "Напишите функцию, преобразующую произвольный список вида ['2018-01-01', 'yandex', 'cpc', 100] (он может быть любой длины) в словарь {'2018-01-01': {'yandex': {'cpc': 100}}}"
   ]
  },
  {
   "cell_type": "code",
   "execution_count": 49,
   "metadata": {},
   "outputs": [
    {
     "data": {
      "text/plain": [
       "{'2018-01-01': {'yandex': {'cpc': 0}}}"
      ]
     },
     "execution_count": 49,
     "metadata": {},
     "output_type": "execute_result"
    }
   ],
   "source": [
    "def list_dict(custom_list):\n",
    "    n = len(custom_list)-1\n",
    "    b = custom_list[len(custom_list)-1]\n",
    "    new_dict = 0\n",
    "    while n != 0:\n",
    "        n = n - 1\n",
    "        new_dict = {a[n]:new_dict}\n",
    "    return new_dict\n",
    "\n",
    "a = ['2018-01-01', 'yandex', 'cpc', 100]\n",
    "\n",
    "list_dict(a)\n",
    "    \n",
    "\n",
    "\n",
    "\n"
   ]
  },
  {
   "cell_type": "markdown",
   "metadata": {},
   "source": [
    "## Задание 4"
   ]
  },
  {
   "cell_type": "markdown",
   "metadata": {},
   "source": [
    "Вы работаете секретарем и вам постоянно приходят различные документы. Вы должны быть очень внимательны, чтобы не потерять ни один документ. Каталог документов хранится в следующем виде:"
   ]
  },
  {
   "cell_type": "code",
   "execution_count": 91,
   "metadata": {},
   "outputs": [
    {
     "data": {
      "text/plain": [
       "'11-2'"
      ]
     },
     "execution_count": 91,
     "metadata": {},
     "output_type": "execute_result"
    }
   ],
   "source": [
    "documents = [\n",
    "    {'type': 'passport', 'number': '2207 876234', 'name': 'Василий Гупкин'},\n",
    "    {'type': 'invoice', 'number': '11-2', 'name': 'Геннадий Покемонов'},\n",
    "    {'type': 'insurance', 'number': '10006', 'name': 'Аристарх Павлов'}\n",
    "]\n",
    "documents[1]['number']"
   ]
  },
  {
   "cell_type": "markdown",
   "metadata": {},
   "source": [
    "Перечень полок, на которых находятся документы хранится в следующем виде:"
   ]
  },
  {
   "cell_type": "code",
   "execution_count": 92,
   "metadata": {},
   "outputs": [],
   "source": [
    "directories = {\n",
    "    '1': ['2207 876234', '11-2', '5455 028765'],\n",
    "    '2': ['10006', '5400 028765', '5455 002299'],\n",
    "    '3': []\n",
    "}\n"
   ]
  },
  {
   "cell_type": "code",
   "execution_count": 101,
   "metadata": {},
   "outputs": [
    {
     "name": "stdout",
     "output_type": "stream",
     "text": [
      "Введите команду s\n",
      "Введите номер документа11-2\n",
      "№ полки  1\n"
     ]
    }
   ],
   "source": [
    "comand = input('Введите команду ')\n",
    "if comand == 'p':\n",
    "    doc = input('Введите номер документа')\n",
    "    a =[]\n",
    "    for x in documents:\n",
    "        if x['number'] == doc:\n",
    "            doc_num = x['number']\n",
    "            print(x['name'])\n",
    "            a.append('')\n",
    "    if set(a)==set():\n",
    "        print('Документ не найден')\n",
    "if comand == 's':\n",
    "    a =[]\n",
    "    doc = input('Введите номер документа')\n",
    "    for key,value in directories.items():\n",
    "        for z in value:\n",
    "            if z == doc:\n",
    "                print('№ полки ', key)\n",
    "                a.append('')   \n",
    "    if set(a)==set():\n",
    "        print('Документ не найден')                           \n",
    "if comand == 'l':\n",
    "    new_format_list=[]\n",
    "    for docs in documents:\n",
    "        b = str(docs['type']) + str(' ') + str(docs['number']) + str(' ') +  str(docs['name'])\n",
    "        new_format_list.append(b)\n",
    "    print(new_format_list)\n",
    "if comand == 'as':\n",
    "    new_directory = input('Введите номер полки')\n",
    "    if set(directories.keys()) & set(new_directory) == set():\n",
    "        directories[new_directory]=[]\n",
    "    else:\n",
    "        print('Полка уже существует')\n",
    "if comand == 'd':   \n",
    "    del_doc=input()\n",
    "    numbers=[]\n",
    "    for docs in documents:\n",
    "        numbers.append(docs['number'])\n",
    "    numbers_dir=[]\n",
    "    for shelfs in directories.values():\n",
    "        for docs in shelfs:\n",
    "            numbers_dir.append(docs)\n",
    "    set(str(del_doc))\n",
    "    if set(numbers) & set({del_doc}) == set() and set(numbers_dir) & set({del_doc}) == set() :\n",
    "        print('Документ не найден')\n",
    "    else: \n",
    "        documents = [doc for doc in documents if doc['number'] != del_doc]\n",
    "        for key, shelf in directories.items():\n",
    "            for doc in shelf:\n",
    "                if doc == str(del_doc):\n",
    "                    shelf = [doc for doc in shelf if doc !=del_doc]\n",
    "                    directories[key]= shelf\n",
    "if comand == 'm':\n",
    "    doc_num=input('Ввежите номер документа')\n",
    "    new_shelf=input('Введите полку, на которую хотите перенести документ')\n",
    "    doc_list=[]\n",
    "    shelf_list=[]\n",
    "    for doc in documents:\n",
    "        doc_list.append(doc['number'])\n",
    "    for shelf in directories:\n",
    "        shelf_list.append(shelf)\n",
    "    if set(doc_list) & set([doc_num]) == set() or set(shelf_list) & set([new_shelf]) == set():\n",
    "        print('Введены неправильные данные')\n",
    "    else:\n",
    "        for key, shelf in directories.items():\n",
    "            shelf = [doc for doc in shelf if doc != doc_num]\n",
    "            directories[key] = shelf\n",
    "        directories[new_shelf].append(doc_num)\n",
    "if comand =='a':    \n",
    "    num=input('Введите номер документа')\n",
    "    type_doc=input('Введите тип документа')\n",
    "    owner=input('Введите владельца документа')\n",
    "    num_shelf=input('Введите номер полки документа')\n",
    "    documents.append({'type': type_doc, 'number': num, 'name': owner})\n",
    "    (directories[num_shelf]).append(num)\n",
    "\n"
   ]
  },
  {
   "cell_type": "code",
   "execution_count": null,
   "metadata": {},
   "outputs": [],
   "source": []
  },
  {
   "cell_type": "code",
   "execution_count": null,
   "metadata": {},
   "outputs": [],
   "source": []
  },
  {
   "cell_type": "code",
   "execution_count": null,
   "metadata": {},
   "outputs": [],
   "source": []
  },
  {
   "cell_type": "code",
   "execution_count": null,
   "metadata": {},
   "outputs": [],
   "source": []
  },
  {
   "cell_type": "code",
   "execution_count": null,
   "metadata": {},
   "outputs": [],
   "source": []
  },
  {
   "cell_type": "code",
   "execution_count": null,
   "metadata": {},
   "outputs": [],
   "source": []
  },
  {
   "cell_type": "markdown",
   "metadata": {},
   "source": [
    "Необходимо реализовать пользовательские команды (внимание! это не название функций, которые должны быть выразительными, а команды, которые вводит пользователь, чтобы получить необходимый результат):\n",
    "  \n",
    "- p – people – команда, которая спросит номер документа и выведет имя человека, которому он принадлежит;  \n",
    "- s – shelf – команда, которая спросит номер документа и выведет номер полки, на которой он находится  \n",
    "Правильно обработайте ситуацию, когда пользователь будет вводить несуществующий документ.\n",
    "- l – list – команда, которая выведет список всех документов в формате   \n",
    "**passport \"2207 876234\" \"Василий Гупкин\"**  \n",
    "- as – add shelf – команда, которая спросит номер новой полки и добавит ее в перечень\n",
    "- d – delete – команда, которая спросит номер документа и удалит его из каталога и из перечня полок. Предусмотрите сценарий, когда пользователь вводит несуществующий документ;  \n",
    "- m – move – команда, которая спросит номер документа и целевую полку и переместит его с текущей полки на целевую. Корректно обработайте кейсы, когда пользователь пытается переместить несуществующий документ или переместить документ на несуществующую полку;  \n",
    "- a – add – команда, которая добавит новый документ в каталог и в перечень полок, спросив его номер, тип, имя владельца и номер полки, на котором он будет храниться."
   ]
  }
 ],
 "metadata": {
  "kernelspec": {
   "display_name": "Python 3",
   "language": "python",
   "name": "python3"
  },
  "language_info": {
   "codemirror_mode": {
    "name": "ipython",
    "version": 3
   },
   "file_extension": ".py",
   "mimetype": "text/x-python",
   "name": "python",
   "nbconvert_exporter": "python",
   "pygments_lexer": "ipython3",
   "version": "3.7.4"
  }
 },
 "nbformat": 4,
 "nbformat_minor": 2
}
